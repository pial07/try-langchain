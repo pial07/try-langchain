{
 "cells": [
  {
   "cell_type": "code",
   "execution_count": 1,
   "id": "13e9bc6b-54e7-45e7-88f9-f3658fcc3e91",
   "metadata": {},
   "outputs": [],
   "source": [
    "from langserve import RemoteRunnable\n",
    "chain_endpoint='http://localhost:8100/chain/'"
   ]
  },
  {
   "cell_type": "code",
   "execution_count": 4,
   "id": "f02adba3-70dd-434f-811b-b20da0169e4f",
   "metadata": {},
   "outputs": [],
   "source": [
    "chain=RemoteRunnable(chain_endpoint)\n"
   ]
  },
  {
   "cell_type": "code",
   "execution_count": 5,
   "id": "1b61f07b-187f-4cfb-a530-65dc905b7b3e",
   "metadata": {},
   "outputs": [
    {
     "data": {
      "text/plain": [
       "\"Boise is the capital and most populous city of Idaho, with a population of 235,685 as of the 2020 census. It is located on the Boise River in southwestern Idaho, approximately 41 miles east of the Oregon border and 110 miles north of the Nevada border. The city's downtown area is situated at an elevation of 2,704 feet above sea level. Boise offers various recreational activities, including extensive hiking and biking trails in the foothills north of downtown and an urban trail system known as the Boise River Greenbelt, which runs along the river and through parks. Additionally, Boise's sister city is Gernika, Spain.\""
      ]
     },
     "execution_count": 5,
     "metadata": {},
     "output_type": "execute_result"
    }
   ],
   "source": [
    "chain.invoke(\"tell me about boise\")"
   ]
  },
  {
   "cell_type": "markdown",
   "id": "98231a93-e15b-41cc-94ea-86c23558cf70",
   "metadata": {},
   "source": [
    "#for chunk in chain.stream(\"tell me about boise\"):\n",
    "    #print(chunk)"
   ]
  },
  {
   "cell_type": "code",
   "execution_count": 7,
   "id": "45cfe47b-ef87-429d-92b4-9510e2714230",
   "metadata": {},
   "outputs": [
    {
     "data": {
      "text/plain": [
       "'Boise is the capital and most populous city of Idaho, with a population of 235,685 as of the 2020 census. It is located on the Boise River in southwestern Idaho, approximately 41 miles east of the Oregon border and 110 miles north of the Nevada border. The downtown area has an elevation of 2,704 feet above sea level. Boise offers various recreational opportunities, including extensive hiking and biking in the nearby foothills, and features an urban trail system known as the Boise River Greenbelt that follows the river. Boise has a sister city, Gernika, in Spain.'"
      ]
     },
     "execution_count": 7,
     "metadata": {},
     "output_type": "execute_result"
    }
   ],
   "source": [
    "await chain.ainvoke(\"tell me about boise\")"
   ]
  },
  {
   "cell_type": "code",
   "execution_count": 8,
   "id": "58abeb7e-c33d-48c5-92a8-68358132f253",
   "metadata": {},
   "outputs": [],
   "source": [
    "from langchain_core.prompts import PromptTemplate\n",
    "from langchain_core.runnables import RunnablePassthrough\n",
    "\n",
    "prompt = PromptTemplate.from_template(\"Tell me about {topic}\")\n",
    "\n",
    "def format_prompt(inputs):\n",
    "    prompt_value = prompt.format_prompt(**inputs)\n",
    "    return prompt_value.to_string()\n",
    "\n",
    "\n",
    "new_chain = RunnablePassthrough() | format_prompt | chain\n"
   ]
  },
  {
   "cell_type": "code",
   "execution_count": 10,
   "id": "7579f16e-2280-4a16-9936-dd0e2607f7b6",
   "metadata": {},
   "outputs": [
    {
     "data": {
      "text/plain": [
       "'The provided context does not contain any information about LA (Los Angeles). It focuses solely on Boise, Idaho.'"
      ]
     },
     "execution_count": 10,
     "metadata": {},
     "output_type": "execute_result"
    }
   ],
   "source": [
    "new_chain.invoke({\"topic\":\"LA\"})"
   ]
  },
  {
   "cell_type": "code",
   "execution_count": null,
   "id": "214ad115-24f5-4f6a-8d13-09c828dec9f9",
   "metadata": {},
   "outputs": [],
   "source": []
  }
 ],
 "metadata": {
  "kernelspec": {
   "display_name": "Python 3 (ipykernel)",
   "language": "python",
   "name": "python3"
  },
  "language_info": {
   "codemirror_mode": {
    "name": "ipython",
    "version": 3
   },
   "file_extension": ".py",
   "mimetype": "text/x-python",
   "name": "python",
   "nbconvert_exporter": "python",
   "pygments_lexer": "ipython3",
   "version": "3.12.6"
  }
 },
 "nbformat": 4,
 "nbformat_minor": 5
}
