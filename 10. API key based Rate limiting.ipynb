{
 "cells": [
  {
   "cell_type": "code",
   "execution_count": 2,
   "id": "05e58f09-d957-48aa-8f68-ea0e785531c8",
   "metadata": {},
   "outputs": [],
   "source": [
    "from decouple import config"
   ]
  },
  {
   "cell_type": "code",
   "execution_count": 3,
   "id": "803014c9-1c6a-439d-ac9d-79eb4c045961",
   "metadata": {},
   "outputs": [],
   "source": [
    "API_ACCESS_KEY=config(\"API_ACCESS_KEY\", default=None)\n"
   ]
  },
  {
   "cell_type": "code",
   "execution_count": 4,
   "id": "a6b6526c-938c-4432-b3be-f78515074343",
   "metadata": {},
   "outputs": [
    {
     "data": {
      "text/plain": [
       "'Gtw_sFlTb0xseKgqBl_2vh8ad7QwCHX3ZhUoQkgUPjE'"
      ]
     },
     "execution_count": 4,
     "metadata": {},
     "output_type": "execute_result"
    }
   ],
   "source": [
    "API_ACCESS_KEY"
   ]
  },
  {
   "cell_type": "code",
   "execution_count": 5,
   "id": "fbf486dc-158c-4295-b477-09e3d2dea841",
   "metadata": {},
   "outputs": [],
   "source": [
    "import requests"
   ]
  },
  {
   "cell_type": "code",
   "execution_count": 6,
   "id": "09eb81e3-2ba6-49a3-9b5c-851a93f9204f",
   "metadata": {},
   "outputs": [],
   "source": [
    "base_url=\"http://localhost:8100/\""
   ]
  },
  {
   "cell_type": "code",
   "execution_count": 7,
   "id": "854bd466-482f-4238-9408-60ae07163f7e",
   "metadata": {},
   "outputs": [],
   "source": [
    "data={\"input\": \"Tell me about uttara\"}"
   ]
  },
  {
   "cell_type": "code",
   "execution_count": 33,
   "id": "ac8ba84e-2429-478a-9e62-955e3db6581f",
   "metadata": {},
   "outputs": [],
   "source": [
    "r=requests.get(base_url, json=data, headers={\"X-API-Key\":f\"{API_ACCESS_KEY}\"})"
   ]
  },
  {
   "cell_type": "code",
   "execution_count": 34,
   "id": "f146dd72-34a8-4487-a986-9ec71bd1744b",
   "metadata": {},
   "outputs": [
    {
     "data": {
      "text/plain": [
       "429"
      ]
     },
     "execution_count": 34,
     "metadata": {},
     "output_type": "execute_result"
    }
   ],
   "source": [
    "r.status_code"
   ]
  },
  {
   "cell_type": "code",
   "execution_count": 35,
   "id": "da73a30b-8d85-4994-9056-2843a6f52a3a",
   "metadata": {},
   "outputs": [],
   "source": [
    "chain_endpoint=f\"{base_url}chain/\""
   ]
  },
  {
   "cell_type": "code",
   "execution_count": 36,
   "id": "8e853d2d-a7b5-4b3a-b144-a1856fbc43b5",
   "metadata": {},
   "outputs": [],
   "source": [
    "from langserve import RemoteRunnable"
   ]
  },
  {
   "cell_type": "code",
   "execution_count": 37,
   "id": "5756dfc7-8393-4f30-aa72-6a872822b854",
   "metadata": {},
   "outputs": [],
   "source": [
    "runner=RemoteRunnable(chain_endpoint,headers={\"X-API-Key\":f\"{API_ACCESS_KEY}\"})"
   ]
  },
  {
   "cell_type": "code",
   "execution_count": 38,
   "id": "a5a50a43-9bd1-4f5e-9868-680195d04af0",
   "metadata": {},
   "outputs": [
    {
     "ename": "HTTPStatusError",
     "evalue": "Client error '429 Too Many Requests' for url 'http://localhost:8100/chain/invoke'\nFor more information check: https://developer.mozilla.org/en-US/docs/Web/HTTP/Status/429 for {\"error\":\"Rate Limited\"}",
     "output_type": "error",
     "traceback": [
      "\u001b[31m---------------------------------------------------------------------------\u001b[39m",
      "\u001b[31mHTTPStatusError\u001b[39m                           Traceback (most recent call last)",
      "\u001b[36mFile \u001b[39m\u001b[32mH:\\py4e\\try-langchain\\venv\\Lib\\site-packages\\langserve\\client.py:168\u001b[39m, in \u001b[36m_raise_for_status\u001b[39m\u001b[34m(response)\u001b[39m\n\u001b[32m    167\u001b[39m \u001b[38;5;28;01mtry\u001b[39;00m:\n\u001b[32m--> \u001b[39m\u001b[32m168\u001b[39m     \u001b[43mresponse\u001b[49m\u001b[43m.\u001b[49m\u001b[43mraise_for_status\u001b[49m\u001b[43m(\u001b[49m\u001b[43m)\u001b[49m\n\u001b[32m    169\u001b[39m \u001b[38;5;28;01mexcept\u001b[39;00m httpx.HTTPStatusError \u001b[38;5;28;01mas\u001b[39;00m e:\n",
      "\u001b[36mFile \u001b[39m\u001b[32mH:\\py4e\\try-langchain\\venv\\Lib\\site-packages\\httpx\\_models.py:829\u001b[39m, in \u001b[36mResponse.raise_for_status\u001b[39m\u001b[34m(self)\u001b[39m\n\u001b[32m    828\u001b[39m message = message.format(\u001b[38;5;28mself\u001b[39m, error_type=error_type)\n\u001b[32m--> \u001b[39m\u001b[32m829\u001b[39m \u001b[38;5;28;01mraise\u001b[39;00m HTTPStatusError(message, request=request, response=\u001b[38;5;28mself\u001b[39m)\n",
      "\u001b[31mHTTPStatusError\u001b[39m: Client error '429 Too Many Requests' for url 'http://localhost:8100/chain/invoke'\nFor more information check: https://developer.mozilla.org/en-US/docs/Web/HTTP/Status/429",
      "\nDuring handling of the above exception, another exception occurred:\n",
      "\u001b[31mHTTPStatusError\u001b[39m                           Traceback (most recent call last)",
      "\u001b[36mCell\u001b[39m\u001b[36m \u001b[39m\u001b[32mIn[38]\u001b[39m\u001b[32m, line 1\u001b[39m\n\u001b[32m----> \u001b[39m\u001b[32m1\u001b[39m \u001b[43mrunner\u001b[49m\u001b[43m.\u001b[49m\u001b[43minvoke\u001b[49m\u001b[43m(\u001b[49m\u001b[33;43m\"\u001b[39;49m\u001b[33;43mwhat is uttara\u001b[39;49m\u001b[33;43m\"\u001b[39;49m\u001b[43m)\u001b[49m\n",
      "\u001b[36mFile \u001b[39m\u001b[32mH:\\py4e\\try-langchain\\venv\\Lib\\site-packages\\langserve\\client.py:370\u001b[39m, in \u001b[36mRemoteRunnable.invoke\u001b[39m\u001b[34m(self, input, config, **kwargs)\u001b[39m\n\u001b[32m    368\u001b[39m \u001b[38;5;28;01mif\u001b[39;00m kwargs:\n\u001b[32m    369\u001b[39m     \u001b[38;5;28;01mraise\u001b[39;00m \u001b[38;5;167;01mNotImplementedError\u001b[39;00m(\u001b[33m\"\u001b[39m\u001b[33mkwargs not implemented yet.\u001b[39m\u001b[33m\"\u001b[39m)\n\u001b[32m--> \u001b[39m\u001b[32m370\u001b[39m \u001b[38;5;28;01mreturn\u001b[39;00m \u001b[38;5;28;43mself\u001b[39;49m\u001b[43m.\u001b[49m\u001b[43m_call_with_config\u001b[49m\u001b[43m(\u001b[49m\u001b[38;5;28;43mself\u001b[39;49m\u001b[43m.\u001b[49m\u001b[43m_invoke\u001b[49m\u001b[43m,\u001b[49m\u001b[43m \u001b[49m\u001b[38;5;28;43minput\u001b[39;49m\u001b[43m,\u001b[49m\u001b[43m \u001b[49m\u001b[43mconfig\u001b[49m\u001b[43m=\u001b[49m\u001b[43mconfig\u001b[49m\u001b[43m)\u001b[49m\n",
      "\u001b[36mFile \u001b[39m\u001b[32mH:\\py4e\\try-langchain\\venv\\Lib\\site-packages\\langchain_core\\runnables\\base.py:1930\u001b[39m, in \u001b[36mRunnable._call_with_config\u001b[39m\u001b[34m(self, func, input, config, run_type, serialized, **kwargs)\u001b[39m\n\u001b[32m   1926\u001b[39m     child_config = patch_config(config, callbacks=run_manager.get_child())\n\u001b[32m   1927\u001b[39m     \u001b[38;5;28;01mwith\u001b[39;00m set_config_context(child_config) \u001b[38;5;28;01mas\u001b[39;00m context:\n\u001b[32m   1928\u001b[39m         output = cast(\n\u001b[32m   1929\u001b[39m             \u001b[33m\"\u001b[39m\u001b[33mOutput\u001b[39m\u001b[33m\"\u001b[39m,\n\u001b[32m-> \u001b[39m\u001b[32m1930\u001b[39m             \u001b[43mcontext\u001b[49m\u001b[43m.\u001b[49m\u001b[43mrun\u001b[49m\u001b[43m(\u001b[49m\n\u001b[32m   1931\u001b[39m \u001b[43m                \u001b[49m\u001b[43mcall_func_with_variable_args\u001b[49m\u001b[43m,\u001b[49m\u001b[43m  \u001b[49m\u001b[38;5;66;43;03m# type: ignore[arg-type]\u001b[39;49;00m\n\u001b[32m   1932\u001b[39m \u001b[43m                \u001b[49m\u001b[43mfunc\u001b[49m\u001b[43m,\u001b[49m\n\u001b[32m   1933\u001b[39m \u001b[43m                \u001b[49m\u001b[38;5;28;43minput\u001b[39;49m\u001b[43m,\u001b[49m\n\u001b[32m   1934\u001b[39m \u001b[43m                \u001b[49m\u001b[43mconfig\u001b[49m\u001b[43m,\u001b[49m\n\u001b[32m   1935\u001b[39m \u001b[43m                \u001b[49m\u001b[43mrun_manager\u001b[49m\u001b[43m,\u001b[49m\n\u001b[32m   1936\u001b[39m \u001b[43m                \u001b[49m\u001b[43m*\u001b[49m\u001b[43m*\u001b[49m\u001b[43mkwargs\u001b[49m\u001b[43m,\u001b[49m\n\u001b[32m   1937\u001b[39m \u001b[43m            \u001b[49m\u001b[43m)\u001b[49m,\n\u001b[32m   1938\u001b[39m         )\n\u001b[32m   1939\u001b[39m \u001b[38;5;28;01mexcept\u001b[39;00m \u001b[38;5;167;01mBaseException\u001b[39;00m \u001b[38;5;28;01mas\u001b[39;00m e:\n\u001b[32m   1940\u001b[39m     run_manager.on_chain_error(e)\n",
      "\u001b[36mFile \u001b[39m\u001b[32mH:\\py4e\\try-langchain\\venv\\Lib\\site-packages\\langchain_core\\runnables\\config.py:428\u001b[39m, in \u001b[36mcall_func_with_variable_args\u001b[39m\u001b[34m(func, input, config, run_manager, **kwargs)\u001b[39m\n\u001b[32m    426\u001b[39m \u001b[38;5;28;01mif\u001b[39;00m run_manager \u001b[38;5;129;01mis\u001b[39;00m \u001b[38;5;129;01mnot\u001b[39;00m \u001b[38;5;28;01mNone\u001b[39;00m \u001b[38;5;129;01mand\u001b[39;00m accepts_run_manager(func):\n\u001b[32m    427\u001b[39m     kwargs[\u001b[33m\"\u001b[39m\u001b[33mrun_manager\u001b[39m\u001b[33m\"\u001b[39m] = run_manager\n\u001b[32m--> \u001b[39m\u001b[32m428\u001b[39m \u001b[38;5;28;01mreturn\u001b[39;00m \u001b[43mfunc\u001b[49m\u001b[43m(\u001b[49m\u001b[38;5;28;43minput\u001b[39;49m\u001b[43m,\u001b[49m\u001b[43m \u001b[49m\u001b[43m*\u001b[49m\u001b[43m*\u001b[49m\u001b[43mkwargs\u001b[49m\u001b[43m)\u001b[49m\n",
      "\u001b[36mFile \u001b[39m\u001b[32mH:\\py4e\\try-langchain\\venv\\Lib\\site-packages\\langserve\\client.py:357\u001b[39m, in \u001b[36mRemoteRunnable._invoke\u001b[39m\u001b[34m(self, input, run_manager, config, **kwargs)\u001b[39m\n\u001b[32m    348\u001b[39m \u001b[38;5;250m\u001b[39m\u001b[33;03m\"\"\"Invoke the runnable with the given input and config.\"\"\"\u001b[39;00m\n\u001b[32m    349\u001b[39m response = \u001b[38;5;28mself\u001b[39m.sync_client.post(\n\u001b[32m    350\u001b[39m     \u001b[33m\"\u001b[39m\u001b[33m/invoke\u001b[39m\u001b[33m\"\u001b[39m,\n\u001b[32m    351\u001b[39m     json={\n\u001b[32m   (...)\u001b[39m\u001b[32m    355\u001b[39m     },\n\u001b[32m    356\u001b[39m )\n\u001b[32m--> \u001b[39m\u001b[32m357\u001b[39m output, callback_events = \u001b[43m_decode_response\u001b[49m\u001b[43m(\u001b[49m\n\u001b[32m    358\u001b[39m \u001b[43m    \u001b[49m\u001b[38;5;28;43mself\u001b[39;49m\u001b[43m.\u001b[49m\u001b[43m_lc_serializer\u001b[49m\u001b[43m,\u001b[49m\u001b[43m \u001b[49m\u001b[43mresponse\u001b[49m\u001b[43m,\u001b[49m\u001b[43m \u001b[49m\u001b[43mis_batch\u001b[49m\u001b[43m=\u001b[49m\u001b[38;5;28;43;01mFalse\u001b[39;49;00m\n\u001b[32m    359\u001b[39m \u001b[43m\u001b[49m\u001b[43m)\u001b[49m\n\u001b[32m    361\u001b[39m \u001b[38;5;28;01mif\u001b[39;00m \u001b[38;5;28mself\u001b[39m._use_server_callback_events \u001b[38;5;129;01mand\u001b[39;00m callback_events:\n\u001b[32m    362\u001b[39m     handle_callbacks(run_manager, callback_events)\n",
      "\u001b[36mFile \u001b[39m\u001b[32mH:\\py4e\\try-langchain\\venv\\Lib\\site-packages\\langserve\\client.py:241\u001b[39m, in \u001b[36m_decode_response\u001b[39m\u001b[34m(serializer, response, is_batch)\u001b[39m\n\u001b[32m    234\u001b[39m \u001b[38;5;28;01mdef\u001b[39;00m\u001b[38;5;250m \u001b[39m\u001b[34m_decode_response\u001b[39m(\n\u001b[32m    235\u001b[39m     serializer: Serializer,\n\u001b[32m    236\u001b[39m     response: httpx.Response,\n\u001b[32m    237\u001b[39m     *,\n\u001b[32m    238\u001b[39m     is_batch: \u001b[38;5;28mbool\u001b[39m = \u001b[38;5;28;01mFalse\u001b[39;00m,\n\u001b[32m    239\u001b[39m ) -> Tuple[Any, Union[List[CallbackEventDict], List[List[CallbackEventDict]]]]:\n\u001b[32m    240\u001b[39m \u001b[38;5;250m    \u001b[39m\u001b[33;03m\"\"\"Decode the response.\"\"\"\u001b[39;00m\n\u001b[32m--> \u001b[39m\u001b[32m241\u001b[39m     \u001b[43m_raise_for_status\u001b[49m\u001b[43m(\u001b[49m\u001b[43mresponse\u001b[49m\u001b[43m)\u001b[49m\n\u001b[32m    242\u001b[39m     obj = response.json()\n\u001b[32m    243\u001b[39m     \u001b[38;5;28;01mif\u001b[39;00m \u001b[38;5;129;01mnot\u001b[39;00m \u001b[38;5;28misinstance\u001b[39m(obj, \u001b[38;5;28mdict\u001b[39m):\n",
      "\u001b[36mFile \u001b[39m\u001b[32mH:\\py4e\\try-langchain\\venv\\Lib\\site-packages\\langserve\\client.py:176\u001b[39m, in \u001b[36m_raise_for_status\u001b[39m\u001b[34m(response)\u001b[39m\n\u001b[32m    173\u001b[39m \u001b[38;5;28;01mif\u001b[39;00m e.response.text:\n\u001b[32m    174\u001b[39m     message += \u001b[33mf\u001b[39m\u001b[33m\"\u001b[39m\u001b[33m for \u001b[39m\u001b[38;5;132;01m{\u001b[39;00me.response.text\u001b[38;5;132;01m}\u001b[39;00m\u001b[33m\"\u001b[39m\n\u001b[32m--> \u001b[39m\u001b[32m176\u001b[39m \u001b[38;5;28;01mraise\u001b[39;00m httpx.HTTPStatusError(\n\u001b[32m    177\u001b[39m     message=message,\n\u001b[32m    178\u001b[39m     request=_sanitize_request(e.request),\n\u001b[32m    179\u001b[39m     response=e.response,\n\u001b[32m    180\u001b[39m )\n",
      "\u001b[31mHTTPStatusError\u001b[39m: Client error '429 Too Many Requests' for url 'http://localhost:8100/chain/invoke'\nFor more information check: https://developer.mozilla.org/en-US/docs/Web/HTTP/Status/429 for {\"error\":\"Rate Limited\"}"
     ]
    }
   ],
   "source": [
    "runner.invoke(\"what is uttara\")"
   ]
  },
  {
   "cell_type": "code",
   "execution_count": null,
   "id": "a924cb97-0576-4789-8beb-c08177fa06c8",
   "metadata": {},
   "outputs": [],
   "source": []
  }
 ],
 "metadata": {
  "kernelspec": {
   "display_name": "Python 3 (ipykernel)",
   "language": "python",
   "name": "python3"
  },
  "language_info": {
   "codemirror_mode": {
    "name": "ipython",
    "version": 3
   },
   "file_extension": ".py",
   "mimetype": "text/x-python",
   "name": "python",
   "nbconvert_exporter": "python",
   "pygments_lexer": "ipython3",
   "version": "3.12.6"
  }
 },
 "nbformat": 4,
 "nbformat_minor": 5
}
