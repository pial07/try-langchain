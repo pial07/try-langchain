{
 "cells": [
  {
   "cell_type": "code",
   "execution_count": 1,
   "id": "03e99db1-94b6-4330-b012-753934711d7d",
   "metadata": {},
   "outputs": [],
   "source": [
    "from decouple import config"
   ]
  },
  {
   "cell_type": "code",
   "execution_count": 2,
   "id": "29931c9c-6226-445d-9844-a9c799e17dbc",
   "metadata": {},
   "outputs": [],
   "source": [
    "OPENAI_API_KEY = config(\"OPENAI_API_KEY\")"
   ]
  },
  {
   "cell_type": "code",
   "execution_count": 3,
   "id": "466795e4-ad30-4723-805a-783d04f4d868",
   "metadata": {},
   "outputs": [],
   "source": [
    "from langchain_openai import ChatOpenAI"
   ]
  },
  {
   "cell_type": "code",
   "execution_count": 4,
   "id": "8f862045-3a7e-4921-bb77-68f3f788a461",
   "metadata": {},
   "outputs": [],
   "source": [
    "from langchain_core.prompts import ChatPromptTemplate\n",
    "from langchain_core.output_parsers import StrOutputParser"
   ]
  },
  {
   "cell_type": "code",
   "execution_count": 5,
   "id": "27be42aa-fc8d-4370-b208-eec70bc86dd7",
   "metadata": {},
   "outputs": [],
   "source": [
    "LLM_CONFIG = {\n",
    "    \"api_key\" : OPENAI_API_KEY, \n",
    "    \"model\" : \"gpt-4o\"\n",
    "}"
   ]
  },
  {
   "cell_type": "code",
   "execution_count": 6,
   "id": "17cf509f-4b8e-4568-9b1d-a9200e4474aa",
   "metadata": {},
   "outputs": [],
   "source": [
    "model = ChatOpenAI(**LLM_CONFIG) # LLM models "
   ]
  },
  {
   "cell_type": "code",
   "execution_count": 7,
   "id": "6623c1cc-4597-49d4-acb6-f3f885943266",
   "metadata": {},
   "outputs": [],
   "source": [
    "parser = StrOutputParser()"
   ]
  },
  {
   "cell_type": "code",
   "execution_count": 13,
   "id": "59156a0a-111e-44ec-83dc-0c6bf0db7c92",
   "metadata": {},
   "outputs": [],
   "source": [
    "system_prompt = (\n",
    "    \"You are a professional translator. \"\n",
    "    \"Translate the given input text into {language} without adding or removing any information. \"\n",
    "    \"Do not explain or interpret. Only return the translated text.\"\n",
    ")\n",
    "\n",
    "prompt_template = ChatPromptTemplate.from_messages(\n",
    "    [\n",
    "        (\"system\", system_prompt),\n",
    "        (\"user\", \"{input_text}\")\n",
    "        \n",
    "    ]\n",
    "\n",
    ")"
   ]
  },
  {
   "cell_type": "code",
   "execution_count": 18,
   "id": "097307f7-f01c-4817-a749-1ac8c596342d",
   "metadata": {},
   "outputs": [
    {
     "data": {
      "text/plain": [
       "'তুমি কী খেতে পছন্দ করো?'"
      ]
     },
     "execution_count": 18,
     "metadata": {},
     "output_type": "execute_result"
    }
   ],
   "source": [
    "chain = prompt_template | model | parser\n",
    "chain.invoke({\"language\": \"Bengali\", \"input_text\": \"What do you like to eat?\"})"
   ]
  },
  {
   "cell_type": "code",
   "execution_count": 19,
   "id": "9b352d71-42e7-4ac3-b964-543016c563ad",
   "metadata": {},
   "outputs": [
    {
     "data": {
      "text/plain": [
       "'What do you like to eat?'"
      ]
     },
     "execution_count": 19,
     "metadata": {},
     "output_type": "execute_result"
    }
   ],
   "source": [
    "chain.invoke({\"language\": \"English\", \"input_text\": \"¿Qué te gusta comer?\"})"
   ]
  },
  {
   "cell_type": "code",
   "execution_count": 20,
   "id": "7d9d123a-1643-4c6e-b1c1-abf8cab67012",
   "metadata": {},
   "outputs": [
    {
     "data": {
      "text/plain": [
       "'Cosa ti piace mangiare?'"
      ]
     },
     "execution_count": 20,
     "metadata": {},
     "output_type": "execute_result"
    }
   ],
   "source": [
    "chain.invoke({\"language\": \"Italian\", \"input_text\": \"¿Qué te gusta comer?\"})"
   ]
  },
  {
   "cell_type": "code",
   "execution_count": 21,
   "id": "ae9e358b-f195-47a1-af9a-14f25e2e3d52",
   "metadata": {},
   "outputs": [
    {
     "data": {
      "text/plain": [
       "'Cosa ti piace mangiare?'"
      ]
     },
     "execution_count": 21,
     "metadata": {},
     "output_type": "execute_result"
    }
   ],
   "source": [
    "chain.invoke({\"language\": \"Italian\", \"input_text\": \"Cosa ti piace mangiare?\"})"
   ]
  },
  {
   "cell_type": "code",
   "execution_count": null,
   "id": "a86c2061-1789-4d92-8219-b118e9414ab9",
   "metadata": {},
   "outputs": [],
   "source": []
  },
  {
   "cell_type": "code",
   "execution_count": null,
   "id": "ee165436-a726-4548-858b-98278cd46fff",
   "metadata": {},
   "outputs": [],
   "source": []
  }
 ],
 "metadata": {
  "kernelspec": {
   "display_name": "Python 3 (ipykernel)",
   "language": "python",
   "name": "python3"
  },
  "language_info": {
   "codemirror_mode": {
    "name": "ipython",
    "version": 3
   },
   "file_extension": ".py",
   "mimetype": "text/x-python",
   "name": "python",
   "nbconvert_exporter": "python",
   "pygments_lexer": "ipython3",
   "version": "3.12.6"
  }
 },
 "nbformat": 4,
 "nbformat_minor": 5
}
