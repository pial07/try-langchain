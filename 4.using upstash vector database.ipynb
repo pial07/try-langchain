{
 "cells": [
  {
   "cell_type": "code",
   "execution_count": 24,
   "id": "286af2f5-d053-45b6-8a84-a1f2e4060625",
   "metadata": {},
   "outputs": [],
   "source": [
    "from decouple import config\n",
    "from openai import OpenAI"
   ]
  },
  {
   "cell_type": "code",
   "execution_count": 25,
   "id": "6e40b916-6842-4cda-8b80-dbc25f20d33a",
   "metadata": {},
   "outputs": [],
   "source": [
    "OPENAI_API_KEY = config(\"OPENAI_API_KEY\")\n",
    "UPSTASH_VECTOR_REST_URL = config(\"UPSTASH_VECTOR_REST_URL\")\n",
    "UPSTASH_VECTOR_REST_TOKEN = config(\"UPSTASH_VECTOR_REST_TOKEN\")"
   ]
  },
  {
   "cell_type": "code",
   "execution_count": 27,
   "id": "0891cb7f-997f-4ede-ad92-aedb9cf1014d",
   "metadata": {},
   "outputs": [],
   "source": [
    "client = OpenAI(api_key=OPENAI_API_KEY)"
   ]
  },
  {
   "cell_type": "code",
   "execution_count": 28,
   "id": "eec0c5e6-4288-4661-b066-dfef0beb5602",
   "metadata": {},
   "outputs": [],
   "source": [
    "def get_embedding(text, model=\"text-embedding-3-small\"):\n",
    "   text = text.replace(\"\\n\", \" \")\n",
    "   return client.embeddings.create(input = [text], model=model).data[0].embedding"
   ]
  },
  {
   "cell_type": "code",
   "execution_count": 29,
   "id": "ca40004d-6de5-4797-bc14-7bf8520553e7",
   "metadata": {},
   "outputs": [],
   "source": [
    "documents = [\n",
    "    \"The cat jumped over the dog\",\n",
    "    \"The cow jumped over the moon\",\n",
    "    \"The turkey ran in circles\",\n",
    "]\n"
   ]
  },
  {
   "cell_type": "code",
   "execution_count": null,
   "id": "335970f8-14b6-418d-b14f-7db1a7ff2695",
   "metadata": {},
   "outputs": [],
   "source": [
    "\n",
    "embeddings = [get_embedding(x) for x in documents]"
   ]
  },
  {
   "cell_type": "code",
   "execution_count": null,
   "id": "f9424aa9-040b-4345-9295-25daa4c3bc67",
   "metadata": {},
   "outputs": [],
   "source": [
    "dataset = {}\n",
    "for i, embedding in enumerate(embeddings):\n",
    "    dataset[i] = embedding\n"
   ]
  },
  {
   "cell_type": "code",
   "execution_count": null,
   "id": "a2983192-426e-4231-9130-08c35bd24ef1",
   "metadata": {},
   "outputs": [],
   "source": [
    "from upstash_vector import Index, Vector\n",
    "\n",
    "index = Index(url=\"https://sweet-feline-97483-gcp-usc1-vector.upstash.io\", token=\"********\")\n",
    "\n",
    "index.upsert(\n",
    "  vectors=[\n",
    "    Vector(\n",
    "      id=\"id1\",\n",
    "      vector=[...],\n",
    "      metadata={\"metadata_field\": \"metadata_value\"},\n",
    "    )\n",
    "  ]\n",
    ")\n",
    "\n",
    "index.query(\n",
    "  vector=[...],\n",
    "  top_k=1,\n",
    "  include_vectors=True,\n",
    "  include_metadata=True,\n",
    ")"
   ]
  }
 ],
 "metadata": {
  "kernelspec": {
   "display_name": "Python 3 (ipykernel)",
   "language": "python",
   "name": "python3"
  },
  "language_info": {
   "codemirror_mode": {
    "name": "ipython",
    "version": 3
   },
   "file_extension": ".py",
   "mimetype": "text/x-python",
   "name": "python",
   "nbconvert_exporter": "python",
   "pygments_lexer": "ipython3",
   "version": "3.12.6"
  }
 },
 "nbformat": 4,
 "nbformat_minor": 5
}
