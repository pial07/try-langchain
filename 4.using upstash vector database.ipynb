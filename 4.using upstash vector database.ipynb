{
 "cells": [
  {
   "cell_type": "code",
   "execution_count": 1,
   "id": "286af2f5-d053-45b6-8a84-a1f2e4060625",
   "metadata": {},
   "outputs": [],
   "source": [
    "from decouple import config\n",
    "from openai import OpenAI"
   ]
  },
  {
   "cell_type": "code",
   "execution_count": 2,
   "id": "6e40b916-6842-4cda-8b80-dbc25f20d33a",
   "metadata": {},
   "outputs": [],
   "source": [
    "OPENAI_API_KEY = config(\"OPENAI_API_KEY\")\n",
    "UPSTASH_VECTOR_REST_URL = config(\"UPSTASH_VECTOR_REST_URL\")\n",
    "UPSTASH_VECTOR_REST_TOKEN = config(\"UPSTASH_VECTOR_REST_TOKEN\")"
   ]
  },
  {
   "cell_type": "code",
   "execution_count": 3,
   "id": "0891cb7f-997f-4ede-ad92-aedb9cf1014d",
   "metadata": {},
   "outputs": [],
   "source": [
    "client = OpenAI(api_key=OPENAI_API_KEY)"
   ]
  },
  {
   "cell_type": "code",
   "execution_count": 4,
   "id": "eec0c5e6-4288-4661-b066-dfef0beb5602",
   "metadata": {},
   "outputs": [],
   "source": [
    "def get_embedding(text, model=\"text-embedding-3-small\"):\n",
    "   text = text.replace(\"\\n\", \" \")\n",
    "   return client.embeddings.create(input = [text], model=model).data[0].embedding"
   ]
  },
  {
   "cell_type": "code",
   "execution_count": 9,
   "id": "ca40004d-6de5-4797-bc14-7bf8520553e7",
   "metadata": {},
   "outputs": [],
   "source": [
    "documents = [\n",
    "    \"The cat jumped over the dog\",\n",
    "    \"The cow jumped over the moon\",\n",
    "    \"The turkey ran in circles\",\n",
    "]\n"
   ]
  },
  {
   "cell_type": "code",
   "execution_count": 10,
   "id": "335970f8-14b6-418d-b14f-7db1a7ff2695",
   "metadata": {},
   "outputs": [],
   "source": [
    "\n",
    "embeddings = [get_embedding(x) for x in documents]"
   ]
  },
  {
   "cell_type": "code",
   "execution_count": 11,
   "id": "f9424aa9-040b-4345-9295-25daa4c3bc67",
   "metadata": {},
   "outputs": [],
   "source": [
    "dataset = {}\n",
    "for i, embedding in enumerate(embeddings):\n",
    "    dataset[i] = embedding\n"
   ]
  },
  {
   "cell_type": "code",
   "execution_count": 12,
   "id": "a2983192-426e-4231-9130-08c35bd24ef1",
   "metadata": {},
   "outputs": [],
   "source": [
    "from upstash_vector import Index, Vector\n",
    "\n",
    "index = Index(url=UPSTASH_VECTOR_REST_URL, token=UPSTASH_VECTOR_REST_TOKEN)\n"
   ]
  },
  {
   "cell_type": "code",
   "execution_count": 14,
   "id": "97a88eb2-0a9f-4a9b-bd1f-b012f5c3c431",
   "metadata": {},
   "outputs": [
    {
     "name": "stdout",
     "output_type": "stream",
     "text": [
      "0\n",
      "1\n",
      "2\n"
     ]
    }
   ],
   "source": [
    "vectors=[]\n",
    "for key,value in dataset.items():\n",
    "    print(key)\n",
    "    my_id=key\n",
    "    embedding=value\n",
    "    vectors.append(Vector(id=my_id,vector=embedding))"
   ]
  },
  {
   "cell_type": "code",
   "execution_count": 17,
   "id": "b071c498-49b7-475d-8c29-43dfa2003889",
   "metadata": {},
   "outputs": [
    {
     "data": {
      "text/plain": [
       "'Success'"
      ]
     },
     "execution_count": 17,
     "metadata": {},
     "output_type": "execute_result"
    }
   ],
   "source": [
    "index.upsert(vectors=vectors)"
   ]
  },
  {
   "cell_type": "code",
   "execution_count": 23,
   "id": "22c73bfd-e6f6-468f-99cf-5131cbeffbbd",
   "metadata": {},
   "outputs": [],
   "source": [
    "dataset[2]=get_embedding(\"The moose sat near the dog\")"
   ]
  },
  {
   "cell_type": "code",
   "execution_count": 25,
   "id": "c0abd519-217f-4b9b-89f4-0342ea766e89",
   "metadata": {},
   "outputs": [
    {
     "data": {
      "text/plain": [
       "'Success'"
      ]
     },
     "execution_count": 25,
     "metadata": {},
     "output_type": "execute_result"
    }
   ],
   "source": [
    "index.upsert(vectors=[Vector(id=2,vector=dataset[2])])"
   ]
  },
  {
   "cell_type": "code",
   "execution_count": 26,
   "id": "bfa28bfc-4f94-4d02-9696-9bd74bce5485",
   "metadata": {},
   "outputs": [],
   "source": [
    "query_string=\"The moose sat over the dog\"\n",
    "query_embedding=get_embedding(query_string)"
   ]
  },
  {
   "cell_type": "code",
   "execution_count": 27,
   "id": "527269a4-ee50-4ffb-ba36-5499d355af68",
   "metadata": {},
   "outputs": [
    {
     "name": "stdout",
     "output_type": "stream",
     "text": [
      "2 0.9586149\n",
      "0 0.7527521\n",
      "1 0.7056093\n"
     ]
    }
   ],
   "source": [
    "results=index.query(\n",
    "  vector=query_embedding,\n",
    "  top_k=3,\n",
    "  include_vectors=True,\n",
    "  include_metadata=True,\n",
    ")\n",
    "for result in results:\n",
    "    print(result.id,result.score)"
   ]
  },
  {
   "cell_type": "code",
   "execution_count": null,
   "id": "2ed3c4f0-594a-4395-aac6-69410ea50493",
   "metadata": {},
   "outputs": [],
   "source": []
  }
 ],
 "metadata": {
  "kernelspec": {
   "display_name": "Python 3 (ipykernel)",
   "language": "python",
   "name": "python3"
  },
  "language_info": {
   "codemirror_mode": {
    "name": "ipython",
    "version": 3
   },
   "file_extension": ".py",
   "mimetype": "text/x-python",
   "name": "python",
   "nbconvert_exporter": "python",
   "pygments_lexer": "ipython3",
   "version": "3.12.6"
  }
 },
 "nbformat": 4,
 "nbformat_minor": 5
}
