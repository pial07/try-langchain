{
 "cells": [
  {
   "cell_type": "code",
   "execution_count": 1,
   "id": "bfc43efe-eda8-4595-8a02-63f9e1ea3206",
   "metadata": {},
   "outputs": [],
   "source": [
    "import requests"
   ]
  },
  {
   "cell_type": "code",
   "execution_count": 3,
   "id": "1454c4b8-0479-4e8e-8d92-9b41025aa665",
   "metadata": {},
   "outputs": [
    {
     "data": {
      "text/plain": [
       "'http://localhost:8100/'"
      ]
     },
     "execution_count": 3,
     "metadata": {},
     "output_type": "execute_result"
    }
   ],
   "source": [
    "endpoint = \"http://localhost:8100/\"\n",
    "chain_type = \"\"\n",
    "url = f\"{endpoint}{chain_type}\"\n",
    "url\n"
   ]
  },
  {
   "cell_type": "code",
   "execution_count": 3,
   "id": "80fe5dbc-541b-467b-8a54-e12b436e9c31",
   "metadata": {},
   "outputs": [],
   "source": [
    "data={\"input\": \"Tell me about uttara\"}"
   ]
  },
  {
   "cell_type": "markdown",
   "id": "29c087d1-8ff9-4f63-b599-46a08b012c3e",
   "metadata": {},
   "source": [
    "r=requests.post(url,json=data)\n"
   ]
  },
  {
   "cell_type": "code",
   "execution_count": null,
   "id": "9d189d50-ac44-404c-b363-652ecc48b467",
   "metadata": {},
   "outputs": [],
   "source": [
    "r.status_code()"
   ]
  }
 ],
 "metadata": {
  "kernelspec": {
   "display_name": "Python 3 (ipykernel)",
   "language": "python",
   "name": "python3"
  },
  "language_info": {
   "codemirror_mode": {
    "name": "ipython",
    "version": 3
   },
   "file_extension": ".py",
   "mimetype": "text/x-python",
   "name": "python",
   "nbconvert_exporter": "python",
   "pygments_lexer": "ipython3",
   "version": "3.12.6"
  }
 },
 "nbformat": 4,
 "nbformat_minor": 5
}
