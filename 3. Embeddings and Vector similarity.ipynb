{
 "cells": [
  {
   "cell_type": "code",
   "execution_count": 1,
   "id": "57d66954-58df-4498-bdee-534d394d0240",
   "metadata": {},
   "outputs": [],
   "source": [
    "phrase_1=\"The dog ate my homework\"\n",
    "phrase_2=\"The homework ate my dog\""
   ]
  },
  {
   "cell_type": "code",
   "execution_count": 16,
   "id": "d34d4e64-8632-4cdc-81f7-a44119205a2b",
   "metadata": {},
   "outputs": [
    {
     "name": "stdout",
     "output_type": "stream",
     "text": [
      "['ate', 'dog', 'homework', 'my', 'the']\n"
     ]
    }
   ],
   "source": [
    "list1=[]\n",
    "for x in phrase_1.split(\" \"):\n",
    "    list1.append(x.lower())\n",
    "print (sorted(list1))\n",
    "    "
   ]
  },
  {
   "cell_type": "code",
   "execution_count": 20,
   "id": "d5de3ed5-2214-4aaf-bcca-5842bfbfdb72",
   "metadata": {},
   "outputs": [
    {
     "name": "stdout",
     "output_type": "stream",
     "text": [
      "['ate', 'dog', 'homework', 'my', 'the']\n"
     ]
    }
   ],
   "source": [
    "list2=[]\n",
    "for x in phrase_2.split(\" \"):\n",
    "    list2.append(x.lower())\n",
    "print (sorted(list2))"
   ]
  },
  {
   "cell_type": "code",
   "execution_count": 21,
   "id": "a6d15c41-7950-4534-b6f5-ce9539248c10",
   "metadata": {},
   "outputs": [
    {
     "data": {
      "text/plain": [
       "True"
      ]
     },
     "execution_count": 21,
     "metadata": {},
     "output_type": "execute_result"
    }
   ],
   "source": [
    "sorted(list2)==sorted(list1)"
   ]
  },
  {
   "cell_type": "code",
   "execution_count": 24,
   "id": "286af2f5-d053-45b6-8a84-a1f2e4060625",
   "metadata": {},
   "outputs": [],
   "source": [
    "from decouple import config"
   ]
  },
  {
   "cell_type": "code",
   "execution_count": 25,
   "id": "6e40b916-6842-4cda-8b80-dbc25f20d33a",
   "metadata": {},
   "outputs": [],
   "source": [
    "OPENAI_API_KEY=config(\"OPENAI_API_KEY\")"
   ]
  },
  {
   "cell_type": "code",
   "execution_count": 27,
   "id": "0891cb7f-997f-4ede-ad92-aedb9cf1014d",
   "metadata": {},
   "outputs": [],
   "source": [
    "from openai import OpenAI\n",
    "client=OpenAI(api_key=OPENAI_API_KEY)"
   ]
  },
  {
   "cell_type": "code",
   "execution_count": 28,
   "id": "eec0c5e6-4288-4661-b066-dfef0beb5602",
   "metadata": {},
   "outputs": [],
   "source": [
    "def get_embedding(text, model=\"text-embedding-3-small\"):\n",
    "   text = text.replace(\"\\n\", \" \")\n",
    "   return client.embeddings.create(input = [text], model=model).data[0].embedding\n"
   ]
  },
  {
   "cell_type": "code",
   "execution_count": 29,
   "id": "ca40004d-6de5-4797-bc14-7bf8520553e7",
   "metadata": {},
   "outputs": [],
   "source": [
    "documents = [\n",
    "    \"The cat jumped over the dog\",\n",
    "    \"The cow jumped over the moon\",\n",
    "    \"The turkey ran in circles\",\n",
    "]"
   ]
  },
  {
   "cell_type": "markdown",
   "id": "93ba48f6-4d1c-4804-84c9-0d6c22a8bc6a",
   "metadata": {},
   "source": [
    "embeddings=[get_embedding(x) for x in documents]\n"
   ]
  },
  {
   "cell_type": "markdown",
   "id": "a7af82fd-1819-4ea6-acb2-9c10a029829d",
   "metadata": {},
   "source": [
    "embeddings[0]"
   ]
  },
  {
   "cell_type": "code",
   "execution_count": 38,
   "id": "77b0f59c-d186-487c-8af9-a80e9f04e7d2",
   "metadata": {},
   "outputs": [],
   "source": [
    "import numpy as np"
   ]
  },
  {
   "cell_type": "code",
   "execution_count": 39,
   "id": "4b8bee4e-ad60-447a-a5b0-ae62ad7c9b75",
   "metadata": {},
   "outputs": [
    {
     "data": {
      "text/plain": [
       "(1536,)"
      ]
     },
     "execution_count": 39,
     "metadata": {},
     "output_type": "execute_result"
    }
   ],
   "source": [
    "np.array(embeddings[0]).shape"
   ]
  },
  {
   "cell_type": "code",
   "execution_count": 40,
   "id": "2548f986-0daf-4105-a3a6-87b6dd69962c",
   "metadata": {},
   "outputs": [],
   "source": [
    "def calculate_cosine_metrics(v1, v2):\n",
    "    dot_product = np.dot(v1, v2)\n",
    "    magnitude1 = np.linalg.norm(v1)\n",
    "    magnitude2 = np.linalg.norm(v2)\n",
    "    cosine_similarity = dot_product / (magnitude1 * magnitude2)\n",
    "    cosine_distance = 1 - cosine_similarity\n",
    "    return int(cosine_similarity * 100), int(cosine_distance * 100)\n"
   ]
  },
  {
   "cell_type": "code",
   "execution_count": 41,
   "id": "fc9c0589-90a4-497f-b97f-b182059630b0",
   "metadata": {},
   "outputs": [
    {
     "name": "stdout",
     "output_type": "stream",
     "text": [
      "(99, 0)\n",
      "(54, 45)\n",
      "(31, 68)\n"
     ]
    }
   ],
   "source": [
    "print(calculate_cosine_metrics(embeddings[0], embeddings[0]))\n",
    "print(calculate_cosine_metrics(embeddings[0], embeddings[1]))\n",
    "print(calculate_cosine_metrics(embeddings[0], embeddings[2]))"
   ]
  },
  {
   "cell_type": "code",
   "execution_count": 42,
   "id": "95fb6b4b-48b7-4854-902d-60bb0027dd81",
   "metadata": {},
   "outputs": [
    {
     "name": "stdout",
     "output_type": "stream",
     "text": [
      "(28, 71)\n",
      "(31, 68)\n",
      "(56, 43)\n"
     ]
    }
   ],
   "source": [
    "query_str = \"The moose sat by the turkey\"\n",
    "query_embedding = get_embedding(query_str)\n",
    "\n",
    "for embedding in embeddings:\n",
    "    print(calculate_cosine_metrics(query_embedding, embedding))\n"
   ]
  },
  {
   "cell_type": "code",
   "execution_count": 43,
   "id": "04e695cb-5f25-4453-8e7b-6210276d56f1",
   "metadata": {},
   "outputs": [],
   "source": [
    "phrase_1_embedding = get_embedding(\"The dog ate my homework and then burped it up\")\n",
    "phrase_2_embedding = get_embedding(\"The green dog ate my homework and then burped it up\")\n"
   ]
  },
  {
   "cell_type": "code",
   "execution_count": 44,
   "id": "c59cba8e-7e43-4fe5-92ee-7edbfe9cd0b0",
   "metadata": {},
   "outputs": [
    {
     "data": {
      "text/plain": [
       "(91, 8)"
      ]
     },
     "execution_count": 44,
     "metadata": {},
     "output_type": "execute_result"
    }
   ],
   "source": [
    "\n",
    "calculate_cosine_metrics(phrase_1_embedding, phrase_2_embedding)"
   ]
  },
  {
   "cell_type": "code",
   "execution_count": null,
   "id": "335970f8-14b6-418d-b14f-7db1a7ff2695",
   "metadata": {},
   "outputs": [],
   "source": []
  }
 ],
 "metadata": {
  "kernelspec": {
   "display_name": "Python 3 (ipykernel)",
   "language": "python",
   "name": "python3"
  },
  "language_info": {
   "codemirror_mode": {
    "name": "ipython",
    "version": 3
   },
   "file_extension": ".py",
   "mimetype": "text/x-python",
   "name": "python",
   "nbconvert_exporter": "python",
   "pygments_lexer": "ipython3",
   "version": "3.12.6"
  }
 },
 "nbformat": 4,
 "nbformat_minor": 5
}
