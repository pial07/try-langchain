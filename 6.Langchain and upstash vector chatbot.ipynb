{
 "cells": [
  {
   "cell_type": "code",
   "execution_count": 1,
   "id": "ba74ad70-904e-45d6-b418-430b15b0162e",
   "metadata": {},
   "outputs": [],
   "source": [
    "import os\n",
    "from decouple import config\n",
    "from openai import OpenAI\n",
    "\n",
    "OPENAI_API_KEY = config(\"OPENAI_API_KEY\")\n",
    "os.environ['OPENAI_API_KEY'] = OPENAI_API_KEY\n",
    "UPSTASH_VECTOR_REST_URL = config(\"UPSTASH_VECTOR_REST_URL\")\n",
    "UPSTASH_VECTOR_REST_TOKEN = config(\"UPSTASH_VECTOR_REST_TOKEN\")\n"
   ]
  },
  {
   "cell_type": "code",
   "execution_count": 4,
   "id": "ab908176-c571-4075-8f61-8593367a7b67",
   "metadata": {},
   "outputs": [],
   "source": [
    "from langchain_openai import OpenAIEmbeddings\n",
    "from langchain_community.vectorstores import UpstashVectorStore\n",
    "\n",
    "embeddings = OpenAIEmbeddings(model=\"text-embedding-3-small\")\n",
    "store = UpstashVectorStore(\n",
    "    embedding=embeddings,\n",
    "    index_url=UPSTASH_VECTOR_REST_URL,\n",
    "    index_token=UPSTASH_VECTOR_REST_TOKEN\n",
    ")\n"
   ]
  },
  {
   "cell_type": "code",
   "execution_count": 5,
   "id": "a4db964e-506f-452a-9098-37dc70c9f6e8",
   "metadata": {},
   "outputs": [],
   "source": [
    "retriever = store.as_retriever(\n",
    "    search_type='similarity',\n",
    "    search_kwargs={'k': 2}\n",
    ")"
   ]
  },
  {
   "cell_type": "code",
   "execution_count": 6,
   "id": "cc85b537-0aaf-4d29-a9aa-bdb5c7025392",
   "metadata": {},
   "outputs": [],
   "source": [
    "from langchain_openai import OpenAI\n",
    "from langchain_openai import ChatOpenAI\n"
   ]
  },
  {
   "cell_type": "code",
   "execution_count": 7,
   "id": "be5e58ae-1cf3-4f36-8f75-9b6fb76a06d2",
   "metadata": {},
   "outputs": [],
   "source": [
    "LLM_CONFIG = {\n",
    "    \"model\": \"gpt-4o-mini\",\n",
    "    \"api_key\": OPENAI_API_KEY\n",
    "}\n"
   ]
  },
  {
   "cell_type": "code",
   "execution_count": 8,
   "id": "9784db04-8ede-4987-8320-a8a64afb7be0",
   "metadata": {},
   "outputs": [],
   "source": [
    "llm = ChatOpenAI(**LLM_CONFIG)"
   ]
  },
  {
   "cell_type": "code",
   "execution_count": 9,
   "id": "2cb326da-74f1-45c6-a6f2-0d12c958b28c",
   "metadata": {},
   "outputs": [],
   "source": [
    "from langchain_core.prompts import ChatPromptTemplate\n",
    "\n",
    "message = \"\"\"\n",
    "Answer this question using the provided context only.\n",
    "\n",
    "{question}\n",
    "\n",
    "Context:\n",
    "{context}\n",
    "\"\"\"\n",
    "\n",
    "prompt = ChatPromptTemplate.from_messages([(\"human\", message)])"
   ]
  },
  {
   "cell_type": "code",
   "execution_count": 10,
   "id": "9bb111c4-feac-48b5-926f-154b15c871d1",
   "metadata": {},
   "outputs": [
    {
     "data": {
      "text/plain": [
       "{'passed': {'num': 31}, 'modified': 3816751}"
      ]
     },
     "execution_count": 10,
     "metadata": {},
     "output_type": "execute_result"
    }
   ],
   "source": [
    "from langchain_core.runnables import RunnableParallel, RunnablePassthrough\n",
    "\n",
    "runnable = RunnableParallel(\n",
    "    passed=RunnablePassthrough(),\n",
    "    modified=lambda x: x[\"num\"] * 123121,\n",
    ")\n",
    "\n",
    "runnable.invoke({\"num\": 31})"
   ]
  },
  {
   "cell_type": "code",
   "execution_count": 11,
   "id": "ade05d55-7f30-4908-9909-cbd4bb17d041",
   "metadata": {},
   "outputs": [],
   "source": [
    "\n",
    "from langchain_core.output_parsers import StrOutputParser\n",
    "parser = StrOutputParser()"
   ]
  },
  {
   "cell_type": "code",
   "execution_count": 12,
   "id": "492a6328-f7bd-45bc-b8d7-77b657fff73b",
   "metadata": {},
   "outputs": [],
   "source": [
    "chain={\"context\":retriever, \"question\":RunnablePassthrough()} | prompt | llm | parser"
   ]
  },
  {
   "cell_type": "code",
   "execution_count": 13,
   "id": "e24eb595-d2ba-4ca0-a07e-df01aeee5996",
   "metadata": {},
   "outputs": [
    {
     "data": {
      "text/plain": [
       "'The best food to eat in Uttara can be found at the many street food vendors located near Sector 7 Bridge, which is a popular destination for street food lovers. Additionally, Uttara is home to various posh restaurants and fine dining establishments.'"
      ]
     },
     "execution_count": 13,
     "metadata": {},
     "output_type": "execute_result"
    }
   ],
   "source": [
    "chain.invoke(\"what is the best food to eat in uttara\")"
   ]
  },
  {
   "cell_type": "code",
   "execution_count": null,
   "id": "30ff2fd9-5153-4003-b7c6-0a523f6efadc",
   "metadata": {},
   "outputs": [],
   "source": []
  }
 ],
 "metadata": {
  "kernelspec": {
   "display_name": "Python 3 (ipykernel)",
   "language": "python",
   "name": "python3"
  },
  "language_info": {
   "codemirror_mode": {
    "name": "ipython",
    "version": 3
   },
   "file_extension": ".py",
   "mimetype": "text/x-python",
   "name": "python",
   "nbconvert_exporter": "python",
   "pygments_lexer": "ipython3",
   "version": "3.12.6"
  }
 },
 "nbformat": 4,
 "nbformat_minor": 5
}
