{
 "cells": [
  {
   "cell_type": "code",
   "execution_count": 1,
   "id": "286af2f5-d053-45b6-8a84-a1f2e4060625",
   "metadata": {},
   "outputs": [],
   "source": [
    "from decouple import config\n",
    "from openai import OpenAI"
   ]
  },
  {
   "cell_type": "code",
   "execution_count": 2,
   "id": "6e40b916-6842-4cda-8b80-dbc25f20d33a",
   "metadata": {},
   "outputs": [],
   "source": [
    "OPENAI_API_KEY = config(\"OPENAI_API_KEY\")\n",
    "UPSTASH_VECTOR_REST_URL = config(\"UPSTASH_VECTOR_REST_URL\")\n",
    "UPSTASH_VECTOR_REST_TOKEN = config(\"UPSTASH_VECTOR_REST_TOKEN\")"
   ]
  },
  {
   "cell_type": "code",
   "execution_count": 3,
   "id": "2ed3c4f0-594a-4395-aac6-69410ea50493",
   "metadata": {},
   "outputs": [],
   "source": [
    "import os\n",
    "os.environ[\"OPENAI_API_KEY\"]=OPENAI_API_KEY"
   ]
  },
  {
   "cell_type": "code",
   "execution_count": 4,
   "id": "fcdde838-4ac7-4120-b28c-0021781bbf99",
   "metadata": {},
   "outputs": [],
   "source": [
    "import wikipedia "
   ]
  },
  {
   "cell_type": "code",
   "execution_count": 5,
   "id": "4d419e56-cfed-454f-ad0b-29e21d417f41",
   "metadata": {},
   "outputs": [],
   "source": [
    "ny=wikipedia.page(title=\"New York city, New York\")"
   ]
  },
  {
   "cell_type": "code",
   "execution_count": 6,
   "id": "0441d940-7f04-4ddf-8133-aa6e24d0b489",
   "metadata": {},
   "outputs": [],
   "source": [
    "from langchain_openai import OpenAIEmbeddings\n",
    "embeddings=OpenAIEmbeddings(model=\"text-embedding-3-small\")"
   ]
  },
  {
   "cell_type": "code",
   "execution_count": 7,
   "id": "91180080-a931-4194-a5b2-f10feaf0b906",
   "metadata": {},
   "outputs": [],
   "source": [
    "from langchain_community.vectorstores import UpstashVectorStore\n",
    "\n",
    "store = UpstashVectorStore(\n",
    "    embedding=embeddings,\n",
    "    index_url=UPSTASH_VECTOR_REST_URL,\n",
    "    index_token=UPSTASH_VECTOR_REST_TOKEN\n",
    ")\n"
   ]
  },
  {
   "cell_type": "code",
   "execution_count": 8,
   "id": "3edd43a9-7030-4a04-8deb-9a71c64428ce",
   "metadata": {},
   "outputs": [
    {
     "data": {
      "text/plain": [
       "['Uttara (neighbourhood)',\n",
       " 'Uttara University',\n",
       " 'Uttara North metro station',\n",
       " 'RAJUK Uttara Model College',\n",
       " 'Centrepoint, Dhaka',\n",
       " 'Uttara High School and College',\n",
       " 'Dhaka Metro Rail',\n",
       " 'Uttara Center metro station',\n",
       " 'Uttara West Thana',\n",
       " 'Uttara Group of Companies']"
      ]
     },
     "execution_count": 8,
     "metadata": {},
     "output_type": "execute_result"
    }
   ],
   "source": [
    "wikipedia.search(\"Uttara, Dhaka\")"
   ]
  },
  {
   "cell_type": "code",
   "execution_count": 9,
   "id": "21243a1d-adfc-465f-b2c3-d443b5c242c3",
   "metadata": {},
   "outputs": [],
   "source": [
    "from langchain_core.documents import Document\n",
    "documents=[]\n",
    "cities=[\"Uttara, Dhaka\",\"Boise,Idaho\"]\n",
    "for city in cities:\n",
    "    wikipedia_page_result=wikipedia.page(title=city)\n",
    "    doc=Document(\n",
    "        page_content=wikipedia_page_result.content,\n",
    "        metadata={\n",
    "            \"source\":f\"{wikipedia_page_result.url}\",\n",
    "            \"title\":city\n",
    "        }\n",
    "    )\n",
    "    documents.append(doc)"
   ]
  },
  {
   "cell_type": "code",
   "execution_count": 10,
   "id": "cc4c5486-ee78-4b52-aafc-f1367d954a0a",
   "metadata": {},
   "outputs": [
    {
     "data": {
      "text/plain": [
       "{'source': 'https://en.wikipedia.org/wiki/Uttara_(neighbourhood)',\n",
       " 'title': 'Uttara, Dhaka'}"
      ]
     },
     "execution_count": 10,
     "metadata": {},
     "output_type": "execute_result"
    }
   ],
   "source": [
    "documents[0].metadata"
   ]
  },
  {
   "cell_type": "code",
   "execution_count": 14,
   "id": "c40e7ad8-93b2-4763-acb1-fea19213a81d",
   "metadata": {},
   "outputs": [
    {
     "data": {
      "text/plain": [
       "2"
      ]
     },
     "execution_count": 14,
     "metadata": {},
     "output_type": "execute_result"
    }
   ],
   "source": [
    "len(documents)"
   ]
  },
  {
   "cell_type": "code",
   "execution_count": 11,
   "id": "d011221f-514a-4f99-8c4d-dede7dea610e",
   "metadata": {},
   "outputs": [],
   "source": [
    "from langchain_community.document_loaders import TextLoader\n",
    "from langchain_text_splitters import TokenTextSplitter\n",
    "\n",
    "OPENAI_LLM_MODEL = \"gpt-4o\"\n",
    "text_splitter = TokenTextSplitter.from_tiktoken_encoder(\n",
    "    model_name=OPENAI_LLM_MODEL, chunk_size=100, chunk_overlap=0\n",
    ")"
   ]
  },
  {
   "cell_type": "code",
   "execution_count": 12,
   "id": "3b62c2c8-5784-46aa-a523-a3976a572ffd",
   "metadata": {},
   "outputs": [],
   "source": [
    "docs=text_splitter.split_documents(documents)"
   ]
  },
  {
   "cell_type": "code",
   "execution_count": 13,
   "id": "28464d9e-1616-472b-8a5e-d2d94d5e6f3a",
   "metadata": {},
   "outputs": [
    {
     "data": {
      "text/plain": [
       "131"
      ]
     },
     "execution_count": 13,
     "metadata": {},
     "output_type": "execute_result"
    }
   ],
   "source": [
    "len(docs)"
   ]
  },
  {
   "cell_type": "code",
   "execution_count": 15,
   "id": "62b536b5-9cbb-49ca-b550-ce480d7a6140",
   "metadata": {},
   "outputs": [],
   "source": [
    "inserted_vectors=store.add_documents(docs)"
   ]
  },
  {
   "cell_type": "code",
   "execution_count": 19,
   "id": "8c67b35b-fa9f-46b8-97be-2e9457d8f52e",
   "metadata": {},
   "outputs": [
    {
     "name": "stdout",
     "output_type": "stream",
     "text": [
      "{'source': 'https://en.wikipedia.org/wiki/Boise,_Idaho', 'title': 'Boise,Idaho'}-0.7419841\n",
      "{'source': 'https://en.wikipedia.org/wiki/Boise,_Idaho', 'title': 'Boise,Idaho'}-0.7313181\n",
      "{'source': 'https://en.wikipedia.org/wiki/Boise,_Idaho', 'title': 'Boise,Idaho'}-0.7095957\n",
      "{'source': 'https://en.wikipedia.org/wiki/Boise,_Idaho', 'title': 'Boise,Idaho'}-0.6820013\n",
      "{'source': 'https://en.wikipedia.org/wiki/Boise,_Idaho', 'title': 'Boise,Idaho'}-0.6707239\n"
     ]
    }
   ],
   "source": [
    "result=store.similarity_search_with_score(\"The city named after trees\", k=5)\n",
    "for doc,score in result:\n",
    "    print(f\"{doc.metadata}-{score}\")"
   ]
  },
  {
   "cell_type": "code",
   "execution_count": null,
   "id": "ba20bfc1-66e6-4aff-ac69-7586eae1eb18",
   "metadata": {},
   "outputs": [],
   "source": []
  }
 ],
 "metadata": {
  "kernelspec": {
   "display_name": "Python 3 (ipykernel)",
   "language": "python",
   "name": "python3"
  },
  "language_info": {
   "codemirror_mode": {
    "name": "ipython",
    "version": 3
   },
   "file_extension": ".py",
   "mimetype": "text/x-python",
   "name": "python",
   "nbconvert_exporter": "python",
   "pygments_lexer": "ipython3",
   "version": "3.12.6"
  }
 },
 "nbformat": 4,
 "nbformat_minor": 5
}
