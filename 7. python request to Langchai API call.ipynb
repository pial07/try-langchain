{
 "cells": [
  {
   "cell_type": "code",
   "execution_count": 1,
   "id": "bfc43efe-eda8-4595-8a02-63f9e1ea3206",
   "metadata": {},
   "outputs": [],
   "source": [
    "import requests"
   ]
  },
  {
   "cell_type": "code",
   "execution_count": 2,
   "id": "1454c4b8-0479-4e8e-8d92-9b41025aa665",
   "metadata": {},
   "outputs": [
    {
     "data": {
      "text/plain": [
       "'http://localhost:8100/chain/invoke'"
      ]
     },
     "execution_count": 2,
     "metadata": {},
     "output_type": "execute_result"
    }
   ],
   "source": [
    "endpoint = \"http://localhost:8100/chain\"\n",
    "chain_type = \"/invoke\"\n",
    "url = f\"{endpoint}{chain_type}\"\n",
    "url\n"
   ]
  },
  {
   "cell_type": "code",
   "execution_count": 3,
   "id": "80fe5dbc-541b-467b-8a54-e12b436e9c31",
   "metadata": {},
   "outputs": [],
   "source": [
    "data={\"input\": \"Tell me about uttara\"}"
   ]
  },
  {
   "cell_type": "code",
   "execution_count": 4,
   "id": "48c173a0-402c-4426-917c-f859c986faf1",
   "metadata": {},
   "outputs": [
    {
     "data": {
      "text/plain": [
       "{'output': 'Uttara, or Uttara Model Town, is a neighbourhood in Dhaka, the capital of Bangladesh. Its name comes from the Bengali word \"uttor,\" meaning \"north.\" Uttara is located on the road to Gazipur and is adjacent to Hazrat Shahjalal International Airport. The area has been developed as a satellite town starting from plans laid out by the Dhaka Improvement Trust in 1966. Uttara features various amenities including a children\\'s amusement park named Fantasy Island in sector 15, along with Uttara Lake and Khidir Canal. Transportation options in Uttara include numerous bus services and taxi services like Uber and Pathao.',\n",
       " 'metadata': {'run_id': '53587316-a879-456b-94b3-51799ef4f6a8',\n",
       "  'feedback_tokens': []}}"
      ]
     },
     "execution_count": 4,
     "metadata": {},
     "output_type": "execute_result"
    }
   ],
   "source": [
    "r=requests.post(url,json=data)\n",
    "r.json()"
   ]
  },
  {
   "cell_type": "code",
   "execution_count": 5,
   "id": "c4df6a5b-3f8c-4e82-9dcc-c626cfe1d1c2",
   "metadata": {},
   "outputs": [
    {
     "data": {
      "text/plain": [
       "'Uttara, or Uttara Model Town, is a neighbourhood in Dhaka, the capital of Bangladesh. Its name comes from the Bengali word \"uttor,\" meaning \"north.\" Uttara is located on the road to Gazipur and is adjacent to Hazrat Shahjalal International Airport. The area has been developed as a satellite town starting from plans laid out by the Dhaka Improvement Trust in 1966. Uttara features various amenities including a children\\'s amusement park named Fantasy Island in sector 15, along with Uttara Lake and Khidir Canal. Transportation options in Uttara include numerous bus services and taxi services like Uber and Pathao.'"
      ]
     },
     "execution_count": 5,
     "metadata": {},
     "output_type": "execute_result"
    }
   ],
   "source": [
    "r.json()['output']"
   ]
  },
  {
   "cell_type": "code",
   "execution_count": null,
   "id": "9d189d50-ac44-404c-b363-652ecc48b467",
   "metadata": {},
   "outputs": [],
   "source": []
  }
 ],
 "metadata": {
  "kernelspec": {
   "display_name": "Python 3 (ipykernel)",
   "language": "python",
   "name": "python3"
  },
  "language_info": {
   "codemirror_mode": {
    "name": "ipython",
    "version": 3
   },
   "file_extension": ".py",
   "mimetype": "text/x-python",
   "name": "python",
   "nbconvert_exporter": "python",
   "pygments_lexer": "ipython3",
   "version": "3.12.6"
  }
 },
 "nbformat": 4,
 "nbformat_minor": 5
}
